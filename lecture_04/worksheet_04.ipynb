{
 "cells": [
  {
   "cell_type": "markdown",
   "metadata": {},
   "source": [
    "# Worksheet 04\n",
    "\n",
    "Name:  Maha Alali\n",
    "UID: U84088912\n",
    "\n",
    "### Topics\n",
    "\n",
    "- Distance & Similarity"
   ]
  },
  {
   "cell_type": "markdown",
   "metadata": {},
   "source": [
    "### Distance & Similarity\n",
    "\n",
    "#### Part 1\n",
    "\n",
    "a) In the minkowski distance, describe what the parameters p and d are."
   ]
  },
  {
   "cell_type": "markdown",
   "metadata": {},
   "source": [
    "- p: a generic parameter that we can choose and change depending on the objective we are trying to acheive.\n",
    "- d:the dimensional space (fixed from the dataset)"
   ]
  },
  {
   "cell_type": "markdown",
   "metadata": {},
   "source": [
    "b) In your own words describe the difference between the Euclidean distance and the Manhattan distance."
   ]
  },
  {
   "cell_type": "markdown",
   "metadata": {},
   "source": [
    "- Euclidean distance: it is when p=2 in the Minkowski distance.\n",
    "- Manhattan distance:it is when p=1 in the Minkowski distance."
   ]
  },
  {
   "cell_type": "markdown",
   "metadata": {},
   "source": [
    "Consider A = (0, 0) and B = (1, 1). When:\n",
    "\n",
    "- p = 1, d(A, B) = 2\n",
    "- p = 2, d(A, B) = $\\sqrt{2} = 1.41$\n",
    "- p = 3, d(A, B) = $2^{1/3} = 1.26$\n",
    "- p = 4, d(A, B) = $2^{1/4} = 1.19$\n",
    "\n",
    "c) Describe what you think distance would look like when p is very large."
   ]
  },
  {
   "cell_type": "markdown",
   "metadata": {},
   "source": [
    "As p get's larger, the value d(b, c) in a triangle inequality d(b, c) <= d(a, b) + d(b, c) for any point a, b, c in a dataset would decrease and when p is infinite, it becomes a square (Chebyshev's distance)."
   ]
  },
  {
   "cell_type": "markdown",
   "metadata": {},
   "source": [
    "d) Is the minkowski distance still a distance function when p < 1? Expain why / why not."
   ]
  },
  {
   "cell_type": "markdown",
   "metadata": {},
   "source": [
    "No, becuase it violates the triangle inequality."
   ]
  },
  {
   "cell_type": "markdown",
   "metadata": {},
   "source": [
    "e) when would you use cosine similarity over the euclidan distance?"
   ]
  },
  {
   "cell_type": "markdown",
   "metadata": {},
   "source": [
    "When direction matters more than magnitude."
   ]
  },
  {
   "cell_type": "markdown",
   "metadata": {},
   "source": [
    "f) what does the jaccard distance account for that the manhattan distance doesn't?"
   ]
  },
  {
   "cell_type": "markdown",
   "metadata": {},
   "source": [
    "The size of the data."
   ]
  },
  {
   "cell_type": "markdown",
   "metadata": {},
   "source": [
    "#### Part 2\n",
    "\n",
    "Consider the following two sentences:"
   ]
  },
  {
   "cell_type": "code",
   "execution_count": 1,
   "metadata": {},
   "outputs": [],
   "source": [
    "s1 = \"hello my name is Alice\"  \n",
    "s2 = \"hello my name is Bob\""
   ]
  },
  {
   "cell_type": "markdown",
   "metadata": {},
   "source": [
    "using the union of words from both sentences, we can represent each sentence as a vector. Each element of the vector represents the presence or absence of the word at that index.\n",
    "\n",
    "In this example, the union of words is (\"hello\", \"my\", \"name\", \"is\", \"Alice\", \"Bob\") so we can represent the above sentences as such:"
   ]
  },
  {
   "cell_type": "code",
   "execution_count": 2,
   "metadata": {},
   "outputs": [],
   "source": [
    "v1 = [1,    1, 1,   1, 1,    0]\n",
    "#     hello my name is Alice\n",
    "v2 = [1,    1, 1,   1, 0, 1]\n",
    "#     hello my name is    Bob"
   ]
  },
  {
   "cell_type": "markdown",
   "metadata": {},
   "source": [
    "Programmatically, we can do the following:"
   ]
  },
  {
   "cell_type": "code",
   "execution_count": 3,
   "metadata": {},
   "outputs": [
    {
     "name": "stdout",
     "output_type": "stream",
     "text": [
      "['Alice', 'name', 'my', 'hello', 'is', 'Bob']\n",
      "[1, 1, 1, 1, 1, 0]\n"
     ]
    }
   ],
   "source": [
    "corpus = [s1, s2]\n",
    "all_words = list(set([item for x in corpus for item in x.split()]))\n",
    "print(all_words)\n",
    "v1 = [1 if x in s1 else 0 for x in all_words]\n",
    "print(v1)"
   ]
  },
  {
   "cell_type": "markdown",
   "metadata": {},
   "source": [
    "Let's add a new sentence to our corpus:"
   ]
  },
  {
   "cell_type": "code",
   "execution_count": 4,
   "metadata": {},
   "outputs": [],
   "source": [
    "s3 = \"hi my name is Claude\"\n",
    "corpus.append(s3)"
   ]
  },
  {
   "cell_type": "markdown",
   "metadata": {},
   "source": [
    "a) What is the new union of words used to represent s1, s2, and s3?"
   ]
  },
  {
   "cell_type": "code",
   "execution_count": 5,
   "metadata": {},
   "outputs": [
    {
     "name": "stdout",
     "output_type": "stream",
     "text": [
      "['Alice', 'name', 'hi', 'my', 'Claude', 'hello', 'is', 'Bob']\n"
     ]
    }
   ],
   "source": [
    "all_words = list(set([item for x in corpus for item in x.split()]))\n",
    "print(all_words)"
   ]
  },
  {
   "cell_type": "markdown",
   "metadata": {},
   "source": [
    "b) Represent s1, s2, and s3 as vectors as above, using this new set of words."
   ]
  },
  {
   "cell_type": "code",
   "execution_count": 11,
   "metadata": {},
   "outputs": [
    {
     "name": "stdout",
     "output_type": "stream",
     "text": [
      "[1, 1, 0, 1, 0, 1, 1, 0] hello my name is Alice\n",
      "[0, 1, 0, 1, 0, 1, 1, 1] hello my name is Bob\n",
      "[0, 1, 1, 1, 1, 0, 1, 0] hi my name is Claude\n"
     ]
    }
   ],
   "source": [
    "v1 = [1 if x in s1 else 0 for x in all_words]\n",
    "print(v1, s1)\n",
    "v2 = [1 if x in s2 else 0 for x in all_words]\n",
    "print(v2, s2)\n",
    "v3 = [1 if x in s3 else 0 for x in all_words]\n",
    "print(v3, s3)"
   ]
  },
  {
   "cell_type": "markdown",
   "metadata": {},
   "source": [
    "c) Write a function that computes the manhattan distance between two vectors. Which pair of vectors are the most similar under that distance function?"
   ]
  },
  {
   "cell_type": "code",
   "execution_count": null,
   "metadata": {},
   "outputs": [],
   "source": [
    "def minkowski(x, y, p):\n",
    "    if (len(x) != len(y)):\n",
    "        raise RuntimeError(\"x and y should be the same dimension\")\n",
    "    \n",
    "    res = 0\n",
    "    for i in range(len(x)):\n",
    "        res += (abs(x[i] - y[i]))**p\n",
    "\n",
    "    return res ** (1/p)\n",
    "\n",
    "print(minkowski([0, 0], [1, 1], 2)) # expect sqrt of 2\n",
    "print(minkowski([0, 0], [1, 1], 1)) # expect 2"
   ]
  },
  {
   "cell_type": "markdown",
   "metadata": {},
   "source": []
  },
  {
   "cell_type": "markdown",
   "metadata": {},
   "source": [
    "d) Create a matrix of all these vectors (row major) and add the following sentences in vector form:\n",
    "\n",
    "- \"hi Alice\"\n",
    "- \"hello Claude\"\n",
    "- \"Bob my name is Claude\"\n",
    "- \"hi Claude my name is Alice\"\n",
    "- \"hello Bob\""
   ]
  },
  {
   "cell_type": "code",
   "execution_count": 42,
   "metadata": {},
   "outputs": [
    {
     "name": "stdout",
     "output_type": "stream",
     "text": [
      "['Alice', 'name', 'hi', 'my', 'Claude', 'hello', 'is', 'Bob']\n",
      "[1, 0, 1, 0, 0, 0, 0, 0] hi Alice\n",
      "[0, 1, 0, 1, 0, 1, 1, 1] hello my name is Bob\n",
      "[1, 0, 1, 0, 0, 0, 0, 0] hi Alice\n",
      "[0, 0, 0, 0, 1, 1, 0, 0] hello Claude\n",
      "[0, 1, 0, 1, 1, 0, 1, 1] Bob my name is Claude\n",
      "[1, 1, 1, 1, 1, 0, 1, 0] hi Claude my name is Alice\n",
      "[0, 0, 0, 0, 0, 1, 0, 1] hello Bob\n"
     ]
    }
   ],
   "source": [
    "s1 = \"hi Alice\"  \n",
    "s2 = \"hello my name is Bob\"\n",
    "s3 = \"hi Alice\"\n",
    "s4 = \"hello Claude\"\n",
    "s5 = \"Bob my name is Claude\"\n",
    "s6 = \"hi Claude my name is Alice\"\n",
    "s7 = \"hello Bob\"\n",
    "\n",
    "corpus = [s1, s2, s3, s4, s5, s6, s7]\n",
    "matrix = []\n",
    "all_words = list(set([item for x in corpus for item in x.split()]))\n",
    "print(all_words)\n",
    "\n",
    "matrix = [[1 if x in s else 0 for x in all_words] for s in corpus]\n",
    "\n",
    "for i in range(len(corpus)):\n",
    "    print(matrix[i], corpus[i])\n",
    "\n",
    "            \n",
    "# matrix = [[item for _ in range(columns)] for _ in range(rows)]\n",
    "\n",
    "# class Matrix:\n",
    "#     def __init__(self):\n",
    "#         self.matrix = [[item for _ in range(columns)] for _ in range(rows)]\n",
    "#     def insert:\n",
    "#     def remove:\n",
    "        "
   ]
  },
  {
   "cell_type": "markdown",
   "metadata": {},
   "source": [
    "e) How many rows and columns does this matrix have?"
   ]
  },
  {
   "cell_type": "code",
   "execution_count": 28,
   "metadata": {},
   "outputs": [
    {
     "name": "stdout",
     "output_type": "stream",
     "text": [
      "columns: 8\n",
      "rows: 7\n"
     ]
    }
   ],
   "source": [
    "print(\"columns:\", len(matrix[0]))\n",
    "\n",
    "print(\"rows:\", len(matrix))"
   ]
  },
  {
   "cell_type": "markdown",
   "metadata": {},
   "source": [
    "f) When using the Manhattan distance, which two sentences are the most similar?"
   ]
  },
  {
   "cell_type": "code",
   "execution_count": 63,
   "metadata": {
    "scrolled": false
   },
   "outputs": [
    {
     "name": "stdout",
     "output_type": "stream",
     "text": [
      "\n",
      "\n",
      "\n",
      "The two most similar sentences are s1 and s3 = ('hi Alice', 'hi Alice') with Manhattan distance: 0\n"
     ]
    }
   ],
   "source": [
    "alldist = []\n",
    "minpair = (corpus[0], corpus[1])\n",
    "minval = float('inf')\n",
    "minindex = (0, 0)\n",
    "for i in range(7):\n",
    "    for j in range(7):\n",
    "        v1 = matrix[i]\n",
    "        v2 = matrix[j]\n",
    "        \n",
    "        if i == j:\n",
    "            continue\n",
    "        \n",
    "        dist = sum(abs(a - b) for a, b in zip(v1, v2))\n",
    "        alldist += [[(corpus[i], corpus[j]), dist]]\n",
    "        if dist < minval:\n",
    "            minval = dist\n",
    "            minpair = (corpus[i], corpus[j])\n",
    "            minindex = (\"s\"+str(i+1),\"s\"+str(j+1))\n",
    "            \n",
    "\n",
    "print(\"\\n\\n\")\n",
    "print(\"The two most similar sentences are\",minindex[0],\"and\",minindex[1],\"=\",minpair,\"with Manhattan distance:\", minval)\n",
    "\n",
    "# print(\"\\n\\n\")  \n",
    "# for i in range(len(alldist)):\n",
    "#     print(alldist[i], \"\\n\")"
   ]
  },
  {
   "cell_type": "markdown",
   "metadata": {},
   "source": [
    "#### Part 3 Challenge"
   ]
  },
  {
   "cell_type": "markdown",
   "metadata": {},
   "source": [
    "Given a set of graphs $\\mathcal{G}$, each graph $G \\in \\mathcal{G}$ is defined over the same set of nodes $V$. The graphs are represented by their adjacency matrices, which are 2D arrays where each element indicates whether a pair of nodes is connected by an edge.\n",
    "\n",
    "Your task is to compute the pairwise distances between these graphs based on a specific distance metric. The distance $d(G, G')$ between two graphs $G = (V, E)$ and $G' = (V, E')$ is defined as the sum of the number of edges in $G$ but not in $G'$, and the number of edges in $G'$ but not in $G$. Mathematically, this can be expressed as:\n",
    "\n",
    "$$\n",
    "d(G, G') = |E \\setminus E'| + |E' \\setminus E|.\n",
    "$$\n",
    "\n",
    "##### Requirements:\n",
    "1. **Input**: Should take a list of 2D numpy arrays as input. Each array represents the adjacency matrix of a graph.\n",
    "\n",
    "2. **Output**: Should output a pairwise distance matrix. If there are $n$ graphs in the input list, the output should be an $n \\times n$ matrix where the entry at position $(i, j)$ represents the distance between the $i^{th}$ and $j^{th}$ graph."
   ]
  }
 ],
 "metadata": {
  "kernelspec": {
   "display_name": "Python 3",
   "language": "python",
   "name": "python3"
  },
  "language_info": {
   "codemirror_mode": {
    "name": "ipython",
    "version": 3
   },
   "file_extension": ".py",
   "mimetype": "text/x-python",
   "name": "python",
   "nbconvert_exporter": "python",
   "pygments_lexer": "ipython3",
   "version": "3.8.8"
  },
  "vscode": {
   "interpreter": {
    "hash": "76ca05dc3ea24b2e3b98cdb7774adfbb40773424bf5109b477fd793f623715af"
   }
  }
 },
 "nbformat": 4,
 "nbformat_minor": 2
}
