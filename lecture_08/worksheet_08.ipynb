{
 "cells": [
  {
   "cell_type": "markdown",
   "metadata": {},
   "source": [
    "# Worksheet 08\n",
    "\n",
    "Name:  Maha Alali\n",
    "UID: U84088912\n",
    "\n",
    "### Topics\n",
    "\n",
    "- Soft Clustering\n",
    "- Clustering Aggregation\n",
    "\n",
    "### Probability Review\n",
    "\n",
    "Read through [the following](https://medium.com/@gallettilance/overview-of-probability-3272b72c82c8)\n",
    "\n",
    "### Soft Clustering\n",
    "\n",
    "We generate 10 data points that come from a normal distribution with mean 5 and variance 1."
   ]
  },
  {
   "cell_type": "code",
   "execution_count": 15,
   "metadata": {},
   "outputs": [
    {
     "name": "stdout",
     "output_type": "stream",
     "text": [
      "[4.019624166843549, 4.115990558985977, 4.825878514272246, 4.760529082611539, 5.363528246059516, 5.910251904347891, 4.382911347804442, 4.211740105989784, 5.1230555524470835, 4.560242167826471]\n"
     ]
    }
   ],
   "source": [
    "import random\n",
    "import numpy as np\n",
    "from sklearn.cluster import KMeans\n",
    "\n",
    "mean = 5\n",
    "stdev = 1\n",
    "\n",
    "s1 = np.random.normal(mean, stdev, 10).tolist()\n",
    "print(s1)"
   ]
  },
  {
   "cell_type": "markdown",
   "metadata": {},
   "source": [
    "a) Generate 10 more data points, this time coming from a normal distribution with mean 8 and variance 1."
   ]
  },
  {
   "cell_type": "code",
   "execution_count": 22,
   "metadata": {},
   "outputs": [
    {
     "name": "stdout",
     "output_type": "stream",
     "text": [
      "[6.507700723992155, 8.600907024462503, 9.137209201958125, 6.704264294032779, 6.652229286458011, 8.453037096711604, 7.192287193869117, 7.592317977148471, 6.766002420631127, 8.15578552801471]\n"
     ]
    }
   ],
   "source": [
    "s2 = np.random.normal( 8, 1, 10).tolist()\n",
    "print(s2)"
   ]
  },
  {
   "cell_type": "markdown",
   "metadata": {},
   "source": [
    "b) Flip a fair coin 10 times. If the coin lands on H, then pick the last data point of `s1` and remove it from `s1`, if T then pick the last data point from `s2` and remove it from `s2`. Add these 10 points to a list called `data`."
   ]
  },
  {
   "cell_type": "code",
   "execution_count": 23,
   "metadata": {},
   "outputs": [
    {
     "name": "stdout",
     "output_type": "stream",
     "text": [
      "[4.760529082611539, 5.363528246059516, 8.15578552801471, 6.766002420631127, 7.592317977148471, 5.910251904347891, 7.192287193869117, 4.382911347804442, 8.453037096711604, 6.652229286458011]\n"
     ]
    }
   ],
   "source": [
    "data = []\n",
    "for i in range(10):\n",
    "    # flip coin\n",
    "    coin_output = random.choice([0, 1])\n",
    "    if coin_output == 0:\n",
    "        p1 = s1.pop()\n",
    "        data.append(p1)\n",
    "    else:\n",
    "        p2 = s2.pop()\n",
    "        data.append(p2)\n",
    "print(data)"
   ]
  },
  {
   "cell_type": "markdown",
   "metadata": {},
   "source": [
    "c) This `data` is a Gaussian Mixture Distribution with 2 mixture components. Over the next few questions we will walk through the GMM algorithm to see if we can uncover the parameters we used to generate this data. First, please list all these parameters of the GMM that created `data` and the values we know they have."
   ]
  },
  {
   "cell_type": "markdown",
   "metadata": {},
   "source": [
    "The prior pr of being s1 = 0.5\n",
    "The prior pr of being s2 = 0.5\n",
    "The mean and var of the weights of s1 - s1(mean = 5, var = 1^2)\n",
    "the mean and var of the weights of s2 - s2(mean = 8, var = 1^2)"
   ]
  },
  {
   "cell_type": "code",
   "execution_count": null,
   "metadata": {},
   "outputs": [],
   "source": []
  },
  {
   "cell_type": "markdown",
   "metadata": {},
   "source": [
    "d) Let's assume there are two mixture components (note: we could plot the data and make the observation that there are two clusters). The EM algorithm asks us to start with a random `mean_j`, `variance_j`, `P(S_j)` for each component j. One method we could use to find sensible values for these is to apply K means with k=2 here.\n",
    "\n",
    "1. the centroids would be the estimates of the `mean_j`\n",
    "2. the intra-cluster variance could be the estimate of `variance_j`\n",
    "3. the proportion of points in each cluster could be the estimate of `P(S_j)`\n",
    "\n",
    "Go through this process and list the parameter estimates it gives. Are they close or far from the true values?"
   ]
  },
  {
   "cell_type": "code",
   "execution_count": 48,
   "metadata": {},
   "outputs": [
    {
     "name": "stdout",
     "output_type": "stream",
     "text": [
      "[8.15578552801471, 6.766002420631127, 7.592317977148471, 7.192287193869117, 8.453037096711604, 6.652229286458011]\n",
      "[4.760529082611539, 5.363528246059516, 5.910251904347891, 4.382911347804442]\n",
      "P(S_1) = 0.6,  P(S_2) = 0.4\n",
      "mean_1 = 7.468609917138839,  mean_2 = 5.1043051452058466\n",
      "var_1 = 0.4488499586450696,  var_2 = 0.3388344466824552\n"
     ]
    },
    {
     "name": "stderr",
     "output_type": "stream",
     "text": [
      "/Users/maha/Library/Python/3.9/lib/python/site-packages/sklearn/cluster/_kmeans.py:1416: FutureWarning: The default value of `n_init` will change from 10 to 'auto' in 1.4. Set the value of `n_init` explicitly to suppress the warning\n",
      "  super()._check_params_vs_input(X, default_n_init=10)\n"
     ]
    }
   ],
   "source": [
    "kmeans = KMeans(2, init='k-means++').fit(X=np.array(data).reshape(-1, 1))\n",
    "\n",
    "s1 = [x[0] for x in filter(lambda x: x[1] == 0, zip(data, kmeans.labels_))]\n",
    "print(s1)\n",
    "s2 = [x[0] for x in filter(lambda x: x[1] == 1, zip(data, kmeans.labels_))]\n",
    "print(s2)\n",
    "\n",
    "prob_s = [ len(s1) / (len(s1) + len(s2)) , len(s2)/(len(s1)+len(s2))]\n",
    "mean = [ sum(s1)/len(s1) , sum(s2)/len(s2) ]\n",
    "var = [ sum(map(lambda x : (x - mean[0])**2, s1)) / len(s1) , sum(map(lambda x : (x - mean[1])**2, s2)) / len(s2) ]\n",
    "\n",
    "print(\"P(S_1) = \" + str(prob_s[0]) + \",  P(S_2) = \" + str(prob_s[1]))\n",
    "print(\"mean_1 = \" + str(mean[0]) + \",  mean_2 = \" + str(mean[1]))\n",
    "print(\"var_1 = \" + str(var[0]) + \",  var_2 = \" + str(var[1]))"
   ]
  },
  {
   "cell_type": "markdown",
   "metadata": {},
   "source": [
    "The means are close to their corresponding true values whereas the variences are slightly futher away from the true values."
   ]
  },
  {
   "cell_type": "markdown",
   "metadata": {},
   "source": [
    "e) For each data point, compute `P(S_j | X_i)`. Comment on which cluster you think each point belongs to based on the estimated probabilities. How does that compare to the truth?"
   ]
  },
  {
   "cell_type": "code",
   "execution_count": 49,
   "metadata": {},
   "outputs": [
    {
     "name": "stdout",
     "output_type": "stream",
     "text": [
      "point =  4.760529082611539\n",
      "probability of observing that point if it came from cluster 0 =  1.1073749067753876e-08\n",
      "probability of observing that point if it came from cluster 1 =  0.7037124952308929\n",
      "point =  5.363528246059516\n",
      "probability of observing that point if it came from cluster 0 =  1.4877441123428724e-05\n",
      "probability of observing that point if it came from cluster 1 =  0.8786745631991582\n",
      "point =  8.15578552801471\n",
      "probability of observing that point if it came from cluster 0 =  0.27532425374223923\n",
      "probability of observing that point if it came from cluster 1 =  2.8791174598366175e-18\n",
      "point =  6.766002420631127\n",
      "probability of observing that point if it came from cluster 0 =  0.2610527003581901\n",
      "probability of observing that point if it came from cluster 1 =  7.0528968248345165e-06\n",
      "point =  7.592317977148471\n",
      "probability of observing that point if it came from cluster 0 =  0.8556852445507028\n",
      "probability of observing that point if it came from cluster 1 =  2.306088961662227e-12\n",
      "point =  5.910251904347891\n",
      "probability of observing that point if it came from cluster 0 =  0.0021444234386228576\n",
      "probability of observing that point if it came from cluster 1 =  0.06956249112469065\n",
      "point =  7.192287193869117\n",
      "probability of observing that point if it came from cluster 0 =  0.7353797414040667\n",
      "probability of observing that point if it came from cluster 1 =  6.685345457023738e-09\n",
      "point =  4.382911347804442\n",
      "probability of observing that point if it came from cluster 0 =  4.854814624862811e-11\n",
      "probability of observing that point if it came from cluster 1 =  0.12207602515853144\n",
      "point =  8.453037096711604\n",
      "probability of observing that point if it came from cluster 0 =  0.08022009655205573\n",
      "probability of observing that point if it came from cluster 1 =  7.260328733101198e-22\n",
      "point =  6.652229286458011\n",
      "probability of observing that point if it came from cluster 0 =  0.17000310373240252\n",
      "probability of observing that point if it came from cluster 1 =  3.459719905916051e-05\n",
      "probs\n",
      "4.760529082611539\n",
      "Probability of coming from S_1 = 2.3604274930629202e-08\n",
      "Probability of coming from S_2 = 0.9999999763957251\n",
      "\n",
      "5.363528246059516\n",
      "Probability of coming from S_1 = 2.5396882826505166e-05\n",
      "Probability of coming from S_2 = 0.9999746031171736\n",
      "\n",
      "8.15578552801471\n",
      "Probability of coming from S_1 = 1.0\n",
      "Probability of coming from S_2 = 6.971458612171694e-18\n",
      "\n",
      "6.766002420631127\n",
      "Probability of coming from S_1 = 0.9999819888990876\n",
      "Probability of coming from S_2 = 1.801110091237257e-05\n",
      "\n",
      "7.592317977148471\n",
      "Probability of coming from S_1 = 0.9999999999982032\n",
      "Probability of coming from S_2 = 1.796680088731263e-12\n",
      "\n",
      "5.910251904347891\n",
      "Probability of coming from S_1 = 0.04419722140443194\n",
      "Probability of coming from S_2 = 0.9558027785955681\n",
      "\n",
      "7.192287193869117\n",
      "Probability of coming from S_1 = 0.9999999939393259\n",
      "Probability of coming from S_2 = 6.060674089046522e-09\n",
      "\n",
      "4.382911347804442\n",
      "Probability of coming from S_1 = 5.96531704197711e-10\n",
      "Probability of coming from S_2 = 0.9999999994034683\n",
      "\n",
      "8.453037096711604\n",
      "Probability of coming from S_1 = 1.0\n",
      "Probability of coming from S_2 = 6.033674058544577e-21\n",
      "\n",
      "6.652229286458011\n",
      "Probability of coming from S_1 = 0.9998643455911995\n",
      "Probability of coming from S_2 = 0.00013565440880039132\n",
      "\n"
     ]
    }
   ],
   "source": [
    "from scipy.stats import norm\n",
    "\n",
    "prob_s0_x = [] # P(S_0 | X_i)\n",
    "prob_s1_x = [] # P(S_1 | X_i)\n",
    "prob_x = [] # P(X_i)\n",
    "\n",
    "k = 2\n",
    "\n",
    "for p in data:\n",
    "    print(\"point = \", p)\n",
    "    pdf_i = []\n",
    "\n",
    "    for j in range(k):\n",
    "        # P(X_i | S_j)\n",
    "        pdf_i.append(norm.pdf(p, mean[j], var[j]))\n",
    "        print(\"probability of observing that point if it came from cluster \" + str(j) + \" = \", pdf_i[j])\n",
    "        # P(S_j) already computed\n",
    "        prob_s[j]\n",
    "    \n",
    "    # pdf_i[0] =  p(p | s_0)\n",
    "\n",
    "    # P(X_i) = P(S_0)P(X_i | S_0) + P(S_1)P(X_i | S_1)\n",
    "    prob_x = prob_s[0] * pdf_i[0] + prob_s[1] * pdf_i[1]\n",
    "\n",
    "    # P(S_j | X_i) = P(X_i | S_j)P(S_j) / P(X_i)\n",
    "    prob_s0_x.append( pdf_i[0] * prob_s[0] / prob_x )\n",
    "    prob_s1_x.append( pdf_i[1] * prob_s[1] / prob_x )\n",
    "\n",
    "print(\"probs\")\n",
    "probs = zip(data, prob_s0_x, prob_s1_x)\n",
    "for p in probs:\n",
    "    print(p[0])\n",
    "    print(\"Probability of coming from S_1 = \" + str(p[1]))\n",
    "    print(\"Probability of coming from S_2 = \" + str(p[2]))\n",
    "    print()\n"
   ]
  },
  {
   "cell_type": "markdown",
   "metadata": {},
   "source": [
    "\n",
    "- Point 1: 4.760529082611539 has a higher probability of being in cluster S_2 which alligns with the truth (orginally assigned to cluster with mean = 5). \n",
    "\n",
    "- Point 2: 5.363528246059516 has a higher probabilty of being in cluster S_2 which alligns with the truth (orginally assigned to cluster with mean = 5).\n",
    "\n",
    "- Point 3: 8.15578552801471 has a higher probablilty of being in cluster S_1 which aligns with the truth (orginally assigned to cluster with mean = 8).\n",
    "\n",
    "- Point 4: 6.766002420631127 has a higher probablilty of being in cluster S_1 which aligns with the truth (orginally assigned to cluster with mean = 8).\n",
    "\n",
    "- Point 5: 7.592317977148471 has a higher probablilty of being in cluster S_1 which aligns with the truth (orginally assigned to cluster with mean = 8).\n",
    "\n",
    "- Point 6: 5.910251904347891 has a higher probablilty of being in cluster S_2 which aligns with the truth (orginally assigned to cluster with mean = 5).\n",
    "\n",
    "- Point 7: 7.192287193869117 has a higher probablilty of being in cluster S_1 which aligns with the truth (orginally assigned to cluster with mean = 8).\n",
    "\n",
    "- Point 8: 4.382911347804442 has a higher probablilty of being in cluster S_2 which aligns with the truth (orginally assigned to cluster with mean = 5).\n",
    "\n",
    "- Point 9: 8.453037096711604 has a higher probablilty of being in cluster S_1 which aligns with the truth (orginally assigned to cluster with mean = 8).\n",
    "\n",
    "- Point 10: 6.652229286458011 has a higher probablilty of being in cluster S_1 which aligns with the truth (orginally assigned to cluster with mean = 8).\n",
    "\n",
    "\n"
   ]
  },
  {
   "cell_type": "markdown",
   "metadata": {},
   "source": [
    "f) Having computed `P(S_j | X_i)`, update the estimates of `mean_j`, `var_j`, and `P(S_j)`. How different are these values from the original ones you got from K means? briefly comment."
   ]
  },
  {
   "cell_type": "code",
   "execution_count": 52,
   "metadata": {},
   "outputs": [
    {
     "name": "stdout",
     "output_type": "stream",
     "text": [
      "P(S_1) = 0.6,  P(S_2) = 0.4\n",
      "mean_1 = 7.45722599338077,  mean_2 = 5.095359777448674\n",
      "var_1 = 0.463208141095069,  var_2 = 0.3353663142533721\n"
     ]
    }
   ],
   "source": [
    "prob_c = [sum(prob_s0_x)/ len(prob_s0_x), sum(prob_s1_x)/ len(prob_s1_x) ]\n",
    "mean = [sum([x[0] * x[1] for x in zip(prob_s0_x, data)]) / sum(prob_s0_x), sum([x[0] * x[1] for x in zip(prob_s1_x, data)]) / sum(prob_s1_x) ]\n",
    "var = [ sum([x[0] * (x[1] - mean[0])**2 for x in zip(prob_s0_x, data)]) / sum(prob_s0_x) , sum([x[0] * (x[1] - mean[1])**2 for x in zip(prob_s1_x, data)]) / sum(prob_s1_x) ]\n",
    "\n",
    "print(\"P(S_1) = \" + str(prob_s[0]) + \",  P(S_2) = \" + str(prob_s[1]))\n",
    "print(\"mean_1 = \" + str(mean[0]) + \",  mean_2 = \" + str(mean[1]))\n",
    "print(\"var_1 = \" + str(var[0]) + \",  var_2 = \" + str(var[1]))"
   ]
  },
  {
   "cell_type": "markdown",
   "metadata": {},
   "source": [
    "The values of the mean are getting to the orginal values of the mean we got from Kmeans."
   ]
  },
  {
   "cell_type": "markdown",
   "metadata": {},
   "source": [
    "g) Update `P(S_j | X_i)`. Comment on any differences or lack thereof you observe."
   ]
  },
  {
   "cell_type": "code",
   "execution_count": 53,
   "metadata": {},
   "outputs": [
    {
     "name": "stdout",
     "output_type": "stream",
     "text": [
      "point =  4.760529082611539\n",
      "probability of observing that point if it came from cluster 0 =  3.7612336242652646e-08\n",
      "probability of observing that point if it came from cluster 1 =  0.72266405292831\n",
      "point =  5.363528246059516\n",
      "probability of observing that point if it came from cluster 0 =  3.153129573531329e-05\n",
      "probability of observing that point if it came from cluster 1 =  0.8640630426215493\n",
      "point =  8.15578552801471\n",
      "probability of observing that point if it came from cluster 0 =  0.27622835569694776\n",
      "probability of observing that point if it came from cluster 1 =  9.818165656569233e-19\n",
      "point =  6.766002420631127\n",
      "probability of observing that point if it came from cluster 0 =  0.2828697509787654\n",
      "probability of observing that point if it came from cluster 1 =  4.860808486382175e-06\n",
      "point =  7.592317977148471\n",
      "probability of observing that point if it came from cluster 0 =  0.8253993609624174\n",
      "probability of observing that point if it came from cluster 1 =  1.0910482434591354e-12\n",
      "point =  5.910251904347891\n",
      "probability of observing that point if it came from cluster 0 =  0.003259627436503952\n",
      "probability of observing that point if it came from cluster 1 =  0.06213109105580926\n",
      "point =  7.192287193869117\n",
      "probability of observing that point if it came from cluster 0 =  0.7312998723541406\n",
      "probability of observing that point if it came from cluster 1 =  3.85379157298028e-09\n",
      "point =  4.382911347804442\n",
      "probability of observing that point if it came from cluster 0 =  2.3433346133642263e-10\n",
      "probability of observing that point if it came from cluster 1 =  0.12456588912028578\n",
      "point =  8.453037096711604\n",
      "probability of observing that point if it came from cluster 0 =  0.0854171187815917\n",
      "probability of observing that point if it came from cluster 1 =  2.0354124161635609e-22\n",
      "point =  6.652229286458011\n",
      "probability of observing that point if it came from cluster 0 =  0.19024163873860275\n",
      "probability of observing that point if it came from cluster 1 =  2.486970635994127e-05\n",
      "probs\n",
      "4.760529082611539\n",
      "Probability of coming from S_1 = 7.80701623814877e-08\n",
      "Probability of coming from S_2 = 0.9999999219298377\n",
      "\n",
      "5.363528246059516\n",
      "Probability of coming from S_1 = 5.473484280580563e-05\n",
      "Probability of coming from S_2 = 0.9999452651571942\n",
      "\n",
      "8.15578552801471\n",
      "Probability of coming from S_1 = 1.0\n",
      "Probability of coming from S_2 = 2.3695770676878704e-18\n",
      "\n",
      "6.766002420631127\n",
      "Probability of coming from S_1 = 0.999988544190898\n",
      "Probability of coming from S_2 = 1.145580910193767e-05\n",
      "\n",
      "7.592317977148471\n",
      "Probability of coming from S_1 = 0.9999999999991187\n",
      "Probability of coming from S_2 = 8.812285664852866e-13\n",
      "\n",
      "5.910251904347891\n",
      "Probability of coming from S_1 = 0.07295437671838051\n",
      "Probability of coming from S_2 = 0.9270456232816195\n",
      "\n",
      "7.192287193869117\n",
      "Probability of coming from S_1 = 0.9999999964868114\n",
      "Probability of coming from S_2 = 3.513188597572497e-09\n",
      "\n",
      "4.382911347804442\n",
      "Probability of coming from S_1 = 2.8218013253479663e-09\n",
      "Probability of coming from S_2 = 0.9999999971781987\n",
      "\n",
      "8.453037096711604\n",
      "Probability of coming from S_1 = 1.0\n",
      "Probability of coming from S_2 = 1.5886061601367697e-21\n",
      "\n",
      "6.652229286458011\n",
      "Probability of coming from S_1 = 0.9999128563046215\n",
      "Probability of coming from S_2 = 8.714369537853828e-05\n",
      "\n"
     ]
    }
   ],
   "source": [
    "from scipy.stats import norm\n",
    "\n",
    "prob_s0_x = [] # P(S_0 | X_i)\n",
    "prob_s1_x = [] # P(S_1 | X_i)\n",
    "prob_x = [] # P(X_i)\n",
    "\n",
    "k = 2\n",
    "\n",
    "for p in data:\n",
    "    print(\"point = \", p)\n",
    "    pdf_i = []\n",
    "\n",
    "    for j in range(k):\n",
    "        # P(X_i | S_j)\n",
    "        pdf_i.append(norm.pdf(p, mean[j], var[j]))\n",
    "        print(\"probability of observing that point if it came from cluster \" + str(j) + \" = \", pdf_i[j])\n",
    "        # P(S_j) already computed\n",
    "        prob_s[j]\n",
    "    \n",
    "    # pdf_i[0] =  p(p | s_0)\n",
    "\n",
    "    # P(X_i) = P(S_0)P(X_i | S_0) + P(S_1)P(X_i | S_1)\n",
    "    prob_x = prob_s[0] * pdf_i[0] + prob_s[1] * pdf_i[1]\n",
    "\n",
    "    # P(S_j | X_i) = P(X_i | S_j)P(S_j) / P(X_i)\n",
    "    prob_s0_x.append( pdf_i[0] * prob_s[0] / prob_x )\n",
    "    prob_s1_x.append( pdf_i[1] * prob_s[1] / prob_x )\n",
    "\n",
    "print(\"probs\")\n",
    "probs = zip(data, prob_s0_x, prob_s1_x)\n",
    "for p in probs:\n",
    "    print(p[0])\n",
    "    print(\"Probability of coming from S_1 = \" + str(p[1]))\n",
    "    print(\"Probability of coming from S_2 = \" + str(p[2]))\n",
    "    print()"
   ]
  },
  {
   "cell_type": "markdown",
   "metadata": {},
   "source": [
    "No major difference (none of the updated probabilites indicated a need to switch which cluster they should be assigned to). "
   ]
  },
  {
   "cell_type": "markdown",
   "metadata": {},
   "source": [
    "h) Use `P(S_j | X_i)` to create a hard assignment - label each point as belonging to a specific cluster (0 or 1)"
   ]
  },
  {
   "cell_type": "code",
   "execution_count": 59,
   "metadata": {},
   "outputs": [
    {
     "name": "stdout",
     "output_type": "stream",
     "text": [
      "4.760529082611539\n",
      "Probability of coming from S_1 = 7.80701623814877e-08\n",
      "Probability of coming from S_2 = 0.9999999219298377\n",
      "hard assignment: S_2\n",
      "\n",
      "5.363528246059516\n",
      "Probability of coming from S_1 = 5.473484280580563e-05\n",
      "Probability of coming from S_2 = 0.9999452651571942\n",
      "hard assignment: S_2\n",
      "\n",
      "8.15578552801471\n",
      "Probability of coming from S_1 = 1.0\n",
      "Probability of coming from S_2 = 2.3695770676878704e-18\n",
      "hard assignment: S_1\n",
      "\n",
      "6.766002420631127\n",
      "Probability of coming from S_1 = 0.999988544190898\n",
      "Probability of coming from S_2 = 1.145580910193767e-05\n",
      "hard assignment: S_1\n",
      "\n",
      "7.592317977148471\n",
      "Probability of coming from S_1 = 0.9999999999991187\n",
      "Probability of coming from S_2 = 8.812285664852866e-13\n",
      "hard assignment: S_1\n",
      "\n",
      "5.910251904347891\n",
      "Probability of coming from S_1 = 0.07295437671838051\n",
      "Probability of coming from S_2 = 0.9270456232816195\n",
      "hard assignment: S_2\n",
      "\n",
      "7.192287193869117\n",
      "Probability of coming from S_1 = 0.9999999964868114\n",
      "Probability of coming from S_2 = 3.513188597572497e-09\n",
      "hard assignment: S_1\n",
      "\n",
      "4.382911347804442\n",
      "Probability of coming from S_1 = 2.8218013253479663e-09\n",
      "Probability of coming from S_2 = 0.9999999971781987\n",
      "hard assignment: S_2\n",
      "\n",
      "8.453037096711604\n",
      "Probability of coming from S_1 = 1.0\n",
      "Probability of coming from S_2 = 1.5886061601367697e-21\n",
      "hard assignment: S_1\n",
      "\n",
      "6.652229286458011\n",
      "Probability of coming from S_1 = 0.9999128563046215\n",
      "Probability of coming from S_2 = 8.714369537853828e-05\n",
      "hard assignment: S_1\n",
      "\n",
      "[(4.760529082611539, 'S_2'), (5.363528246059516, 'S_2'), (8.15578552801471, 'S_1'), (6.766002420631127, 'S_1'), (7.592317977148471, 'S_1'), (5.910251904347891, 'S_2'), (7.192287193869117, 'S_1'), (4.382911347804442, 'S_2'), (8.453037096711604, 'S_1'), (6.652229286458011, 'S_1')]\n"
     ]
    }
   ],
   "source": [
    "hard_assignment = []\n",
    "probs = zip(data, prob_s0_x, prob_s1_x)\n",
    "for p in probs:\n",
    "    print(p[0])\n",
    "    print(\"Probability of coming from S_1 = \" + str(p[1]))\n",
    "    print(\"Probability of coming from S_2 = \" + str(p[2]))\n",
    "\n",
    "    if p[1] > p[2]:\n",
    "        assignment = \"S_1\"\n",
    "    else:\n",
    "        assignment = \"S_2\" \n",
    "\n",
    "    hard_assignment += [(p[0], assignment)]\n",
    "    print(\"hard assignment: \"+ assignment)\n",
    "    print()\n",
    "\n",
    "print(hard_assignment)"
   ]
  }
 ],
 "metadata": {
  "kernelspec": {
   "display_name": "Python 3",
   "language": "python",
   "name": "python3"
  },
  "language_info": {
   "codemirror_mode": {
    "name": "ipython",
    "version": 3
   },
   "file_extension": ".py",
   "mimetype": "text/x-python",
   "name": "python",
   "nbconvert_exporter": "python",
   "pygments_lexer": "ipython3",
   "version": "3.8.8"
  },
  "vscode": {
   "interpreter": {
    "hash": "e7370f93d1d0cde622a1f8e1c04877d8463912d04d973331ad4851f04de6915a"
   }
  }
 },
 "nbformat": 4,
 "nbformat_minor": 2
}
